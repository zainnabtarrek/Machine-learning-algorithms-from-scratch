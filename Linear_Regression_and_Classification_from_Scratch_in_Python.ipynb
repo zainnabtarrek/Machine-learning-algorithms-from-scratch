{
  "nbformat": 4,
  "nbformat_minor": 0,
  "metadata": {
    "colab": {
      "provenance": [],
      "include_colab_link": true
    },
    "kernelspec": {
      "name": "python3",
      "display_name": "Python 3"
    },
    "language_info": {
      "name": "python"
    }
  },
  "cells": [
    {
      "cell_type": "markdown",
      "metadata": {
        "id": "view-in-github",
        "colab_type": "text"
      },
      "source": [
        "<a href=\"https://colab.research.google.com/github/zainnabtarrek/Machine-learning-algorithms-from-scratch/blob/main/Linear_Regression_and_Classification_from_Scratch_in_Python.ipynb\" target=\"_parent\"><img src=\"https://colab.research.google.com/assets/colab-badge.svg\" alt=\"Open In Colab\"/></a>"
      ]
    },
    {
      "cell_type": "markdown",
      "source": [
        "**Part 1 Regression**"
      ],
      "metadata": {
        "id": "jcTK1Rk1mPFX"
      }
    },
    {
      "cell_type": "markdown",
      "source": [
        "**Goal is that the implemented model get the same weights entered.**\n",
        "1. 5 values for X and get their corresponding Y values =>Xtrain, Ytrain.\n",
        "2. Apply MSSE(Minimum Sum Squares Technique) to obtain the equation of the line that best fit on the training data(compare to your defined equation)\n",
        "3. For Y: 2 samples are negative and the other 3 are positive.\n",
        "4. After we implemented the model, Use noise function and see how the noise will effect the regressor.\n",
        "**ALL FROM SCRATCH**"
      ],
      "metadata": {
        "id": "Ds93d8n8mb-5"
      }
    },
    {
      "cell_type": "code",
      "source": [
        "import numpy as np\n",
        "import matplotlib.pyplot as plt"
      ],
      "metadata": {
        "id": "A17yVqH8qRZI"
      },
      "execution_count": null,
      "outputs": []
    },
    {
      "cell_type": "code",
      "source": [
        "W = 4\n",
        "C = 6\n",
        "X = np.array([[1, -3], [1, -2], [1, 0], [1, 1], [1, 2]])\n",
        "Y_without_noise = np.dot(X, np.array([C, W]))\n",
        "# Mathmatical equation [1 -3]       = [C + (-3)W]\n",
        "#                      [1 -2]   [C] = [C + (-2)W]\n",
        "#                      [1  0] * [W] = [C + (0)W]\n",
        "#                      [1  1]       = [C + (1)W]\n",
        "#                      [1  2]       = [C + (2)W]"
      ],
      "metadata": {
        "id": "idXRIX3inmoa"
      },
      "execution_count": null,
      "outputs": []
    },
    {
      "cell_type": "code",
      "source": [
        "# 1.Generate random noise between 0 and 1\n",
        "noise = np.random.rand(Y_without_noise.shape[0])\n",
        "# 2.Add noise to the y without noise\n",
        "Y_with_noise = Y_without_noise + noise\n",
        "print(\"Y with noise: \", Y_with_noise)"
      ],
      "metadata": {
        "colab": {
          "base_uri": "https://localhost:8080/"
        },
        "id": "ZoMspO2Z7-29",
        "outputId": "adf15408-5891-446c-8f3d-cdc1594adbcc"
      },
      "execution_count": null,
      "outputs": [
        {
          "output_type": "stream",
          "name": "stdout",
          "text": [
            "Y with noise:  [-5.28109361 -1.96006718  6.95964954 10.0863013  14.24097066]\n"
          ]
        }
      ]
    },
    {
      "cell_type": "code",
      "source": [
        "print(\"Y without noise: \", Y_without_noise)"
      ],
      "metadata": {
        "colab": {
          "base_uri": "https://localhost:8080/"
        },
        "id": "AzW7AVb9nkf9",
        "outputId": "3c19c6e2-bd97-4a00-9312-fba696439baf"
      },
      "execution_count": null,
      "outputs": [
        {
          "output_type": "stream",
          "name": "stdout",
          "text": [
            "Y without noise:  [-6 -2  6 10 14]\n"
          ]
        }
      ]
    },
    {
      "cell_type": "code",
      "source": [
        "# Regressor line using minimum sum squared error equation\n",
        "def linear_regression(X,Y):\n",
        "    # 1.X^T\n",
        "    X_transpose = np.transpose(X)\n",
        "    # 2.((X^T).X)^(-1)\n",
        "    XTX_inv = np.linalg.inv(np.dot(X_transpose, X))\n",
        "    # 3.((X^T).Y)\n",
        "    XTY = np.dot(X_transpose, Y)\n",
        "    # 4.Weights = (((((X^T).X)^-1)((X^T).Y))\n",
        "    w = np.dot(XTX_inv, XTY)\n",
        "    return w"
      ],
      "metadata": {
        "id": "PTIK1ScS2eHk"
      },
      "execution_count": null,
      "outputs": []
    },
    {
      "cell_type": "code",
      "source": [
        "weights_without_noise = linear_regression(X, Y_without_noise)"
      ],
      "metadata": {
        "id": "AOkmI1fHuxtA"
      },
      "execution_count": null,
      "outputs": []
    },
    {
      "cell_type": "code",
      "source": [
        "weights_with_noise = linear_regression(X, Y_with_noise)"
      ],
      "metadata": {
        "id": "Dny4mW-F8WPX"
      },
      "execution_count": null,
      "outputs": []
    },
    {
      "cell_type": "markdown",
      "source": [
        "Since the added 1s were added at the first column Of X therefore the C variable will be equal to 6 and W = 4"
      ],
      "metadata": {
        "id": "Fd9CV0dn3uHq"
      }
    },
    {
      "cell_type": "code",
      "source": [
        "print(\"weights without applying noise: \",weights_without_noise)"
      ],
      "metadata": {
        "colab": {
          "base_uri": "https://localhost:8080/"
        },
        "id": "P9ouXTPG3p71",
        "outputId": "65b052f5-f560-43a4-f4f7-2bdf2562a3ba"
      },
      "execution_count": null,
      "outputs": [
        {
          "output_type": "stream",
          "name": "stdout",
          "text": [
            "weights without applying noise:  [6. 4.]\n"
          ]
        }
      ]
    },
    {
      "cell_type": "code",
      "source": [
        "print(\"weights after applying noise: \", weights_with_noise)"
      ],
      "metadata": {
        "colab": {
          "base_uri": "https://localhost:8080/"
        },
        "id": "TeBc1oGV8jFr",
        "outputId": "1773ab29-2971-4bf6-cd7d-6169f6993f73"
      },
      "execution_count": null,
      "outputs": [
        {
          "output_type": "stream",
          "name": "stdout",
          "text": [
            "weights after applying noise:  [6.38938382 3.95057919]\n"
          ]
        }
      ]
    },
    {
      "cell_type": "code",
      "source": [
        "plt.scatter(X[:,1], Y_without_noise,color='blue', label='Data Points')\n",
        "plt.plot(X[:,1], np.dot(X, weights_without_noise), color='red', label='Best Fit Line')\n",
        "plt.xlabel('X')\n",
        "plt.ylabel('Y')\n",
        "plt.title('Best Fit Line Without Noise')\n",
        "plt.legend()\n",
        "plt.show()"
      ],
      "metadata": {
        "colab": {
          "base_uri": "https://localhost:8080/",
          "height": 472
        },
        "id": "GvfKaQ0Y5LyK",
        "outputId": "8c904e49-60a1-4feb-c3dc-ff93c79e1cbd"
      },
      "execution_count": null,
      "outputs": [
        {
          "output_type": "display_data",
          "data": {
            "text/plain": [
              "<Figure size 640x480 with 1 Axes>"
            ],
            "image/png": "[encoded data removed]"
          },
          "metadata": {}
        }
      ]
    },
    {
      "cell_type": "code",
      "source": [
        "plt.scatter(X[:,1], Y_with_noise,color='blue', label='Data Points')\n",
        "plt.plot(X[:,1], np.dot(X, weights_with_noise), color='red', label='Best Fit Line')\n",
        "plt.xlabel('X')\n",
        "plt.ylabel('Y')\n",
        "plt.title('Best Fit Line With Noise')\n",
        "plt.legend()\n",
        "plt.show()"
      ],
      "metadata": {
        "colab": {
          "base_uri": "https://localhost:8080/",
          "height": 472
        },
        "id": "T5_JeDzY8-Gg",
        "outputId": "3dca7a3e-0adc-4567-fc4d-9b7442f52406"
      },
      "execution_count": null,
      "outputs": [
        {
          "output_type": "display_data",
          "data": {
            "text/plain": [
              "<Figure size 640x480 with 1 Axes>"
            ],
            "image/png": "[encoded data removed]"
          },
          "metadata": {}
        }
      ]
    },
    {
      "cell_type": "markdown",
      "source": [
        "**As we increase the noise applied on the data points, the data points are going to be away from the regressor line.**"
      ],
      "metadata": {
        "id": "Kok4YqUW_gGZ"
      }
    },
    {
      "cell_type": "markdown",
      "source": [
        "**Part 2 Classification**"
      ],
      "metadata": {
        "id": "RyqmZw9toGbf"
      }
    },
    {
      "cell_type": "markdown",
      "source": [
        "1. 2 classes: 1 class with 80:(40,40) train samples and 10,10 test samples and the other class with 40 train samples and 10 test samples.\n",
        "2. Train your linear classifier using MSSE\n",
        "3. Let output be positive for class1 and negative for class2\n",
        "the model is suitable input test samples as class 1 or other\n",
        "\n",
        "*Optional:* If the classified sample from the first 2 classes, determine the classified sample from which class.\n",
        "\n",
        "**ALL FROM SCRATCH**"
      ],
      "metadata": {
        "id": "WVAuxmmNoLBH"
      }
    },
    {
      "cell_type": "code",
      "execution_count": null,
      "metadata": {
        "id": "OfDEUwq7mJC9"
      },
      "outputs": [],
      "source": [
        "from sklearn.datasets import load_iris\n",
        "from sklearn.preprocessing import LabelEncoder\n",
        "import pandas as pd\n",
        "import matplotlib.pyplot as plt\n",
        "import seaborn as sns\n",
        "from sklearn.model_selection import train_test_split\n",
        "from sklearn.metrics import accuracy_score"
      ]
    },
    {
      "cell_type": "code",
      "source": [
        "iris_dataset=load_iris()\n",
        "iris_df=pd.DataFrame(data = iris_dataset['data'], columns = iris_dataset['feature_names'])\n",
        "print(iris_df)"
      ],
      "metadata": {
        "id": "vbQL1d6F-qS7",
        "colab": {
          "base_uri": "https://localhost:8080/"
        },
        "outputId": "eeadc1f3-6ba9-4584-d3ce-3992e09d5828"
      },
      "execution_count": null,
      "outputs": [
        {
          "output_type": "stream",
          "name": "stdout",
          "text": [
            "     sepal length (cm)  sepal width (cm)  petal length (cm)  petal width (cm)\n",
            "0                  5.1               3.5                1.4               0.2\n",
            "1                  4.9               3.0                1.4               0.2\n",
            "2                  4.7               3.2                1.3               0.2\n",
            "3                  4.6               3.1                1.5               0.2\n",
            "4                  5.0               3.6                1.4               0.2\n",
            "..                 ...               ...                ...               ...\n",
            "145                6.7               3.0                5.2               2.3\n",
            "146                6.3               2.5                5.0               1.9\n",
            "147                6.5               3.0                5.2               2.0\n",
            "148                6.2               3.4                5.4               2.3\n",
            "149                5.9               3.0                5.1               1.8\n",
            "\n",
            "[150 rows x 4 columns]\n"
          ]
        }
      ]
    },
    {
      "cell_type": "code",
      "source": [
        "iris_df = pd.DataFrame(data=iris_dataset.data, columns=['sepal_length', 'sepal_width', 'petal_length', 'petal_width'])\n",
        "iris_df['species'] = iris_dataset.target_names[iris_dataset.target]\n",
        "print(iris_df)"
      ],
      "metadata": {
        "id": "rtGHggV6AhAz",
        "colab": {
          "base_uri": "https://localhost:8080/"
        },
        "outputId": "31c33470-fcc1-4b9a-c85c-3f4960c0cf83"
      },
      "execution_count": null,
      "outputs": [
        {
          "output_type": "stream",
          "name": "stdout",
          "text": [
            "     sepal_length  sepal_width  petal_length  petal_width    species\n",
            "0             5.1          3.5           1.4          0.2     setosa\n",
            "1             4.9          3.0           1.4          0.2     setosa\n",
            "2             4.7          3.2           1.3          0.2     setosa\n",
            "3             4.6          3.1           1.5          0.2     setosa\n",
            "4             5.0          3.6           1.4          0.2     setosa\n",
            "..            ...          ...           ...          ...        ...\n",
            "145           6.7          3.0           5.2          2.3  virginica\n",
            "146           6.3          2.5           5.0          1.9  virginica\n",
            "147           6.5          3.0           5.2          2.0  virginica\n",
            "148           6.2          3.4           5.4          2.3  virginica\n",
            "149           5.9          3.0           5.1          1.8  virginica\n",
            "\n",
            "[150 rows x 5 columns]\n"
          ]
        }
      ]
    },
    {
      "cell_type": "code",
      "source": [
        "# Create a label encoder object\n",
        "label_encoder = LabelEncoder()\n",
        "\n",
        "# Fit and transform the species column to integer labels\n",
        "iris_df['species'] = label_encoder.fit_transform(iris_df['species']) # 0 1 2\n",
        "print(iris_df['species'])"
      ],
      "metadata": {
        "colab": {
          "base_uri": "https://localhost:8080/"
        },
        "id": "BucBLqhaZPBL",
        "outputId": "a4e6f79d-7ec7-4bab-a327-43317a2ac4c9"
      },
      "execution_count": null,
      "outputs": [
        {
          "output_type": "stream",
          "name": "stdout",
          "text": [
            "0      0\n",
            "1      0\n",
            "2      0\n",
            "3      0\n",
            "4      0\n",
            "      ..\n",
            "145    2\n",
            "146    2\n",
            "147    2\n",
            "148    2\n",
            "149    2\n",
            "Name: species, Length: 150, dtype: int64\n"
          ]
        }
      ]
    },
    {
      "cell_type": "markdown",
      "source": [
        "group samples of C2, C3 together to form new class\n",
        "C2"
      ],
      "metadata": {
        "id": "HAutafwoHkRI"
      }
    },
    {
      "cell_type": "code",
      "source": [
        "y = iris_df['species']\n",
        "y = np.where(y==0,1,-1)\n",
        "print(y)"
      ],
      "metadata": {
        "colab": {
          "base_uri": "https://localhost:8080/"
        },
        "id": "tp1rDa2mZSMd",
        "outputId": "72341849-bb48-47a6-b5b8-d4b2ea08508d"
      },
      "execution_count": null,
      "outputs": [
        {
          "output_type": "stream",
          "name": "stdout",
          "text": [
            "[ 1  1  1  1  1  1  1  1  1  1  1  1  1  1  1  1  1  1  1  1  1  1  1  1\n",
            "  1  1  1  1  1  1  1  1  1  1  1  1  1  1  1  1  1  1  1  1  1  1  1  1\n",
            "  1  1 -1 -1 -1 -1 -1 -1 -1 -1 -1 -1 -1 -1 -1 -1 -1 -1 -1 -1 -1 -1 -1 -1\n",
            " -1 -1 -1 -1 -1 -1 -1 -1 -1 -1 -1 -1 -1 -1 -1 -1 -1 -1 -1 -1 -1 -1 -1 -1\n",
            " -1 -1 -1 -1 -1 -1 -1 -1 -1 -1 -1 -1 -1 -1 -1 -1 -1 -1 -1 -1 -1 -1 -1 -1\n",
            " -1 -1 -1 -1 -1 -1 -1 -1 -1 -1 -1 -1 -1 -1 -1 -1 -1 -1 -1 -1 -1 -1 -1 -1\n",
            " -1 -1 -1 -1 -1 -1]\n"
          ]
        }
      ]
    },
    {
      "cell_type": "code",
      "source": [
        "X = iris_df.drop(columns=['species'])\n",
        "print(X)"
      ],
      "metadata": {
        "colab": {
          "base_uri": "https://localhost:8080/"
        },
        "id": "xq8dhyF3ZV2A",
        "outputId": "404def81-6cb2-4602-fb4d-5a03639d0f58"
      },
      "execution_count": null,
      "outputs": [
        {
          "output_type": "stream",
          "name": "stdout",
          "text": [
            "     sepal_length  sepal_width  petal_length  petal_width\n",
            "0             5.1          3.5           1.4          0.2\n",
            "1             4.9          3.0           1.4          0.2\n",
            "2             4.7          3.2           1.3          0.2\n",
            "3             4.6          3.1           1.5          0.2\n",
            "4             5.0          3.6           1.4          0.2\n",
            "..            ...          ...           ...          ...\n",
            "145           6.7          3.0           5.2          2.3\n",
            "146           6.3          2.5           5.0          1.9\n",
            "147           6.5          3.0           5.2          2.0\n",
            "148           6.2          3.4           5.4          2.3\n",
            "149           5.9          3.0           5.1          1.8\n",
            "\n",
            "[150 rows x 4 columns]\n"
          ]
        }
      ]
    },
    {
      "cell_type": "markdown",
      "source": [
        "add ones ( bias)"
      ],
      "metadata": {
        "id": "fNghpS_US2ZP"
      }
    },
    {
      "cell_type": "code",
      "source": [
        "\n",
        "X = np.c_[np.ones((X.shape[0],1)),X]\n",
        "print(X)"
      ],
      "metadata": {
        "colab": {
          "base_uri": "https://localhost:8080/"
        },
        "id": "DwBjAVp_Zalg",
        "outputId": "0fd6a38a-71b8-4c37-979e-e8ba4988996b"
      },
      "execution_count": null,
      "outputs": [
        {
          "output_type": "stream",
          "name": "stdout",
          "text": [
            "[[1.  5.1 3.5 1.4 0.2]\n",
            " [1.  4.9 3.  1.4 0.2]\n",
            " [1.  4.7 3.2 1.3 0.2]\n",
            " [1.  4.6 3.1 1.5 0.2]\n",
            " [1.  5.  3.6 1.4 0.2]\n",
            " [1.  5.4 3.9 1.7 0.4]\n",
            " [1.  4.6 3.4 1.4 0.3]\n",
            " [1.  5.  3.4 1.5 0.2]\n",
            " [1.  4.4 2.9 1.4 0.2]\n",
            " [1.  4.9 3.1 1.5 0.1]\n",
            " [1.  5.4 3.7 1.5 0.2]\n",
            " [1.  4.8 3.4 1.6 0.2]\n",
            " [1.  4.8 3.  1.4 0.1]\n",
            " [1.  4.3 3.  1.1 0.1]\n",
            " [1.  5.8 4.  1.2 0.2]\n",
            " [1.  5.7 4.4 1.5 0.4]\n",
            " [1.  5.4 3.9 1.3 0.4]\n",
            " [1.  5.1 3.5 1.4 0.3]\n",
            " [1.  5.7 3.8 1.7 0.3]\n",
            " [1.  5.1 3.8 1.5 0.3]\n",
            " [1.  5.4 3.4 1.7 0.2]\n",
            " [1.  5.1 3.7 1.5 0.4]\n",
            " [1.  4.6 3.6 1.  0.2]\n",
            " [1.  5.1 3.3 1.7 0.5]\n",
            " [1.  4.8 3.4 1.9 0.2]\n",
            " [1.  5.  3.  1.6 0.2]\n",
            " [1.  5.  3.4 1.6 0.4]\n",
            " [1.  5.2 3.5 1.5 0.2]\n",
            " [1.  5.2 3.4 1.4 0.2]\n",
            " [1.  4.7 3.2 1.6 0.2]\n",
            " [1.  4.8 3.1 1.6 0.2]\n",
            " [1.  5.4 3.4 1.5 0.4]\n",
            " [1.  5.2 4.1 1.5 0.1]\n",
            " [1.  5.5 4.2 1.4 0.2]\n",
            " [1.  4.9 3.1 1.5 0.2]\n",
            " [1.  5.  3.2 1.2 0.2]\n",
            " [1.  5.5 3.5 1.3 0.2]\n",
            " [1.  4.9 3.6 1.4 0.1]\n",
            " [1.  4.4 3.  1.3 0.2]\n",
            " [1.  5.1 3.4 1.5 0.2]\n",
            " [1.  5.  3.5 1.3 0.3]\n",
            " [1.  4.5 2.3 1.3 0.3]\n",
            " [1.  4.4 3.2 1.3 0.2]\n",
            " [1.  5.  3.5 1.6 0.6]\n",
            " [1.  5.1 3.8 1.9 0.4]\n",
            " [1.  4.8 3.  1.4 0.3]\n",
            " [1.  5.1 3.8 1.6 0.2]\n",
            " [1.  4.6 3.2 1.4 0.2]\n",
            " [1.  5.3 3.7 1.5 0.2]\n",
            " [1.  5.  3.3 1.4 0.2]\n",
            " [1.  7.  3.2 4.7 1.4]\n",
            " [1.  6.4 3.2 4.5 1.5]\n",
            " [1.  6.9 3.1 4.9 1.5]\n",
            " [1.  5.5 2.3 4.  1.3]\n",
            " [1.  6.5 2.8 4.6 1.5]\n",
            " [1.  5.7 2.8 4.5 1.3]\n",
            " [1.  6.3 3.3 4.7 1.6]\n",
            " [1.  4.9 2.4 3.3 1. ]\n",
            " [1.  6.6 2.9 4.6 1.3]\n",
            " [1.  5.2 2.7 3.9 1.4]\n",
            " [1.  5.  2.  3.5 1. ]\n",
            " [1.  5.9 3.  4.2 1.5]\n",
            " [1.  6.  2.2 4.  1. ]\n",
            " [1.  6.1 2.9 4.7 1.4]\n",
            " [1.  5.6 2.9 3.6 1.3]\n",
            " [1.  6.7 3.1 4.4 1.4]\n",
            " [1.  5.6 3.  4.5 1.5]\n",
            " [1.  5.8 2.7 4.1 1. ]\n",
            " [1.  6.2 2.2 4.5 1.5]\n",
            " [1.  5.6 2.5 3.9 1.1]\n",
            " [1.  5.9 3.2 4.8 1.8]\n",
            " [1.  6.1 2.8 4.  1.3]\n",
            " [1.  6.3 2.5 4.9 1.5]\n",
            " [1.  6.1 2.8 4.7 1.2]\n",
            " [1.  6.4 2.9 4.3 1.3]\n",
            " [1.  6.6 3.  4.4 1.4]\n",
            " [1.  6.8 2.8 4.8 1.4]\n",
            " [1.  6.7 3.  5.  1.7]\n",
            " [1.  6.  2.9 4.5 1.5]\n",
            " [1.  5.7 2.6 3.5 1. ]\n",
            " [1.  5.5 2.4 3.8 1.1]\n",
            " [1.  5.5 2.4 3.7 1. ]\n",
            " [1.  5.8 2.7 3.9 1.2]\n",
            " [1.  6.  2.7 5.1 1.6]\n",
            " [1.  5.4 3.  4.5 1.5]\n",
            " [1.  6.  3.4 4.5 1.6]\n",
            " [1.  6.7 3.1 4.7 1.5]\n",
            " [1.  6.3 2.3 4.4 1.3]\n",
            " [1.  5.6 3.  4.1 1.3]\n",
            " [1.  5.5 2.5 4.  1.3]\n",
            " [1.  5.5 2.6 4.4 1.2]\n",
            " [1.  6.1 3.  4.6 1.4]\n",
            " [1.  5.8 2.6 4.  1.2]\n",
            " [1.  5.  2.3 3.3 1. ]\n",
            " [1.  5.6 2.7 4.2 1.3]\n",
            " [1.  5.7 3.  4.2 1.2]\n",
            " [1.  5.7 2.9 4.2 1.3]\n",
            " [1.  6.2 2.9 4.3 1.3]\n",
            " [1.  5.1 2.5 3.  1.1]\n",
            " [1.  5.7 2.8 4.1 1.3]\n",
            " [1.  6.3 3.3 6.  2.5]\n",
            " [1.  5.8 2.7 5.1 1.9]\n",
            " [1.  7.1 3.  5.9 2.1]\n",
            " [1.  6.3 2.9 5.6 1.8]\n",
            " [1.  6.5 3.  5.8 2.2]\n",
            " [1.  7.6 3.  6.6 2.1]\n",
            " [1.  4.9 2.5 4.5 1.7]\n",
            " [1.  7.3 2.9 6.3 1.8]\n",
            " [1.  6.7 2.5 5.8 1.8]\n",
            " [1.  7.2 3.6 6.1 2.5]\n",
            " [1.  6.5 3.2 5.1 2. ]\n",
            " [1.  6.4 2.7 5.3 1.9]\n",
            " [1.  6.8 3.  5.5 2.1]\n",
            " [1.  5.7 2.5 5.  2. ]\n",
            " [1.  5.8 2.8 5.1 2.4]\n",
            " [1.  6.4 3.2 5.3 2.3]\n",
            " [1.  6.5 3.  5.5 1.8]\n",
            " [1.  7.7 3.8 6.7 2.2]\n",
            " [1.  7.7 2.6 6.9 2.3]\n",
            " [1.  6.  2.2 5.  1.5]\n",
            " [1.  6.9 3.2 5.7 2.3]\n",
            " [1.  5.6 2.8 4.9 2. ]\n",
            " [1.  7.7 2.8 6.7 2. ]\n",
            " [1.  6.3 2.7 4.9 1.8]\n",
            " [1.  6.7 3.3 5.7 2.1]\n",
            " [1.  7.2 3.2 6.  1.8]\n",
            " [1.  6.2 2.8 4.8 1.8]\n",
            " [1.  6.1 3.  4.9 1.8]\n",
            " [1.  6.4 2.8 5.6 2.1]\n",
            " [1.  7.2 3.  5.8 1.6]\n",
            " [1.  7.4 2.8 6.1 1.9]\n",
            " [1.  7.9 3.8 6.4 2. ]\n",
            " [1.  6.4 2.8 5.6 2.2]\n",
            " [1.  6.3 2.8 5.1 1.5]\n",
            " [1.  6.1 2.6 5.6 1.4]\n",
            " [1.  7.7 3.  6.1 2.3]\n",
            " [1.  6.3 3.4 5.6 2.4]\n",
            " [1.  6.4 3.1 5.5 1.8]\n",
            " [1.  6.  3.  4.8 1.8]\n",
            " [1.  6.9 3.1 5.4 2.1]\n",
            " [1.  6.7 3.1 5.6 2.4]\n",
            " [1.  6.9 3.1 5.1 2.3]\n",
            " [1.  5.8 2.7 5.1 1.9]\n",
            " [1.  6.8 3.2 5.9 2.3]\n",
            " [1.  6.7 3.3 5.7 2.5]\n",
            " [1.  6.7 3.  5.2 2.3]\n",
            " [1.  6.3 2.5 5.  1.9]\n",
            " [1.  6.5 3.  5.2 2. ]\n",
            " [1.  6.2 3.4 5.4 2.3]\n",
            " [1.  5.9 3.  5.1 1.8]]\n"
          ]
        }
      ]
    },
    {
      "cell_type": "markdown",
      "source": [
        "• Split C1 into 40 samples for train and 10 samples for test\n",
        "\n",
        "• Split C2 into 80 samples for train and 20 samples for test"
      ],
      "metadata": {
        "id": "5lKQrjWZHuif"
      }
    },
    {
      "cell_type": "code",
      "source": [
        "X_train_c1, X_test_c1, y_train_c1, y_test_c1 = train_test_split(X[y == 1], y[y == 1], test_size=0.20, random_state=42)\n",
        "X_train_c2, X_test_c2, y_train_c2, y_test_c2 = train_test_split(X[y == -1], y[y == -1], test_size=0.2, random_state=42)"
      ],
      "metadata": {
        "id": "J6KZt0idZeA5"
      },
      "execution_count": null,
      "outputs": []
    },
    {
      "cell_type": "code",
      "source": [
        "print(\"class1\")\n",
        "print(X_train_c1.shape)\n",
        "print(X_test_c1.shape)\n",
        "print(y_train_c1.shape)\n",
        "print(y_test_c1.shape)\n",
        "print(\"class2\")\n",
        "print(X_train_c2.shape)\n",
        "print(X_test_c2.shape)\n",
        "print(y_train_c2.shape)\n",
        "print(y_test_c2.shape)"
      ],
      "metadata": {
        "colab": {
          "base_uri": "https://localhost:8080/"
        },
        "id": "Tr0H4ViLT3Wh",
        "outputId": "24348d43-5dff-4971-9011-a697472f73d8"
      },
      "execution_count": null,
      "outputs": [
        {
          "output_type": "stream",
          "name": "stdout",
          "text": [
            "class1\n",
            "(40, 5)\n",
            "(10, 5)\n",
            "(40,)\n",
            "(10,)\n",
            "class2\n",
            "(80, 5)\n",
            "(20, 5)\n",
            "(80,)\n",
            "(20,)\n"
          ]
        }
      ]
    },
    {
      "cell_type": "markdown",
      "source": [
        " Combine training and testing data for each class"
      ],
      "metadata": {
        "id": "hvrnvO4yJOBa"
      }
    },
    {
      "cell_type": "code",
      "source": [
        "\n",
        "X_train = np.vstack((X_train_c1, X_train_c2))\n",
        "y_train = np.concatenate((y_train_c1, y_train_c2))\n",
        "X_test = np.vstack((X_test_c1, X_test_c2))\n",
        "y_test = np.concatenate((y_test_c1, y_test_c2))"
      ],
      "metadata": {
        "id": "tcsFUr4CZmEI"
      },
      "execution_count": null,
      "outputs": []
    },
    {
      "cell_type": "markdown",
      "source": [
        "Train your linear classifier using MSSE"
      ],
      "metadata": {
        "id": "rbzTIp7aJT_K"
      }
    },
    {
      "cell_type": "code",
      "source": [
        "def best_fit(X,Y):\n",
        "    # 1.X^T\n",
        "    X_transpose = np.transpose(X)\n",
        "    # 2.((X^T).X)^(-1)\n",
        "    XTX_inv = np.linalg.inv(np.dot(X_transpose, X))\n",
        "    # 3.((X^T).Y)\n",
        "    XTY = np.dot(X_transpose, Y)\n",
        "    # 4.Weights = (((((X^T).X)^-1)((X^T).Y))\n",
        "    w = np.dot(XTX_inv, XTY)\n",
        "    return w"
      ],
      "metadata": {
        "id": "VGqu2qzaZpb-"
      },
      "execution_count": null,
      "outputs": []
    },
    {
      "cell_type": "code",
      "source": [
        "weights = best_fit(X_train, y_train)\n",
        "print(\"Weights: \", weights)"
      ],
      "metadata": {
        "colab": {
          "base_uri": "https://localhost:8080/"
        },
        "id": "08w4T04xZsQC",
        "outputId": "93566a7f-02e2-477c-fcd7-cb4c8718baf3"
      },
      "execution_count": null,
      "outputs": [
        {
          "output_type": "stream",
          "name": "stdout",
          "text": [
            "Weights:  [-0.72396059  0.12016826  0.47807312 -0.41859655 -0.16621896]\n"
          ]
        }
      ]
    },
    {
      "cell_type": "markdown",
      "source": [
        "Let output be positive for class 1 and negative for class 2"
      ],
      "metadata": {
        "id": "BVyL8yQzJiKI"
      }
    },
    {
      "cell_type": "code",
      "source": [
        "def classify_sample(sample, weights):\n",
        "    prediction = np.dot(sample, weights)\n",
        "    if prediction > 0:\n",
        "        return 1\n",
        "    else:\n",
        "        return -1"
      ],
      "metadata": {
        "id": "bjEZNMt3Zvtw"
      },
      "execution_count": null,
      "outputs": []
    },
    {
      "cell_type": "code",
      "source": [
        "predictions = [classify_sample(sample, weights) for sample in X_test]\n",
        "print(predictions)"
      ],
      "metadata": {
        "colab": {
          "base_uri": "https://localhost:8080/"
        },
        "id": "2zDb1Lh8Zx82",
        "outputId": "763051b1-aeec-41fc-ea65-19fd17e7fc70"
      },
      "execution_count": null,
      "outputs": [
        {
          "output_type": "stream",
          "name": "stdout",
          "text": [
            "[1, 1, 1, 1, 1, 1, 1, 1, 1, 1, -1, -1, -1, -1, -1, -1, -1, -1, -1, -1, -1, -1, -1, -1, -1, -1, -1, -1, -1, -1]\n"
          ]
        }
      ]
    },
    {
      "cell_type": "markdown",
      "source": [
        "Measure performance"
      ],
      "metadata": {
        "id": "AVHkGK7qJwqZ"
      }
    },
    {
      "cell_type": "code",
      "source": [
        "accuracy = accuracy_score(y_test, predictions)\n",
        "print(\"Accuracy:\", accuracy)"
      ],
      "metadata": {
        "colab": {
          "base_uri": "https://localhost:8080/"
        },
        "id": "HjNUJ2NvZ1dp",
        "outputId": "afe204ee-e2ce-407f-9f8b-75f0cfbc0f3c"
      },
      "execution_count": null,
      "outputs": [
        {
          "output_type": "stream",
          "name": "stdout",
          "text": [
            "Accuracy: 1.0\n"
          ]
        }
      ]
    },
    {
      "cell_type": "code",
      "source": [
        "from sklearn.metrics import f1_score\n",
        "f1_score_ = f1_score(y_test, predictions)\n",
        "print(f1_score_)"
      ],
      "metadata": {
        "colab": {
          "base_uri": "https://localhost:8080/"
        },
        "id": "gWZmiUrIKjHs",
        "outputId": "6b90f1c4-5c2e-4634-fced-2bfdacf48fc6"
      },
      "execution_count": null,
      "outputs": [
        {
          "output_type": "stream",
          "name": "stdout",
          "text": [
            "1.0\n"
          ]
        }
      ]
    },
    {
      "cell_type": "code",
      "source": [
        "from sklearn.metrics import confusion_matrix, ConfusionMatrixDisplay\n",
        "classes = iris_df['species'].unique()\n",
        "\n",
        "conf_matrix2 = confusion_matrix(y_test, predictions)\n",
        "sns.heatmap(conf_matrix2, annot=True, fmt=\"d\", cmap=\"Blues\",\n",
        "            xticklabels=[\"Setosa \", \"Versicolour/Virginica\"],\n",
        "            yticklabels=[\"Setosa \", \"Versicolour/Virginica\"])\n",
        "plt.title('Confusion Matrix')\n",
        "plt.xlabel('Predicted')\n",
        "plt.ylabel('Actual')\n",
        "plt.show()"
      ],
      "metadata": {
        "colab": {
          "base_uri": "https://localhost:8080/",
          "height": 472
        },
        "id": "tE7pEe58Q3Js",
        "outputId": "40daf913-0c9c-4aaa-b749-21d69d7d73d9"
      },
      "execution_count": null,
      "outputs": [
        {
          "output_type": "display_data",
          "data": {
            "text/plain": [
              "<Figure size 640x480 with 2 Axes>"
            ],
            "image/png": "[encoded data removed]"
          },
          "metadata": {}
        }
      ]
    }
  ]
}